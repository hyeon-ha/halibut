{
 "cells": [
  {
   "cell_type": "code",
   "execution_count": 7,
   "metadata": {},
   "outputs": [
    {
     "name": "stdout",
     "output_type": "stream",
     "text": [
      "   FARM_NO  Unnamed: 1 FARM_PIG_NO  Unnamed: 3  BUNMAN_SANCHA  Unnamed: 5  \\\n",
      "0      624         NaN       36-86         NaN              2         NaN   \n",
      "1      624         NaN       36-86         NaN              3         NaN   \n",
      "2      624         NaN       36-86         NaN              4         NaN   \n",
      "3      624         NaN       36-86         NaN              5         NaN   \n",
      "4      624         NaN       36-86         NaN              6         NaN   \n",
      "\n",
      "   GYOBAE_DT  Unnamed: 7  BUNMAN_DT  Unnamed: 9  ...  Unnamed: 11  SILSAN  \\\n",
      "0   20100521         NaN   20100913         NaN  ...          NaN      13   \n",
      "1   20101009         NaN   20110202         NaN  ...          NaN      18   \n",
      "2   20110309         NaN   20110703         NaN  ...          NaN      13   \n",
      "3   20110801         NaN   20111125         NaN  ...          NaN      10   \n",
      "4   20111227         NaN   20120421         NaN  ...          NaN      16   \n",
      "\n",
      "   Unnamed: 13  EUDUSU  Unnamed: 15  EUKG  Unnamed: 17  CHOGYOBAE  \\\n",
      "0          NaN      11          NaN   0.0          NaN        NaN   \n",
      "1          NaN      10          NaN  80.0          NaN        NaN   \n",
      "2          NaN      11          NaN  88.0          NaN        NaN   \n",
      "3          NaN      10          NaN  70.0          NaN        NaN   \n",
      "4          NaN      11          NaN  88.0          NaN        NaN   \n",
      "\n",
      "   Unnamed: 19  JAE  \n",
      "0          NaN  NaN  \n",
      "1          NaN  5.0  \n",
      "2          NaN  9.0  \n",
      "3          NaN  4.0  \n",
      "4          NaN  5.0  \n",
      "\n",
      "[5 rows x 21 columns]\n"
     ]
    }
   ],
   "source": [
    "import pandas as pd\n",
    "\n",
    "pigplan = pd.read_csv(\"./pigplan_624.csv\")\n",
    "\n",
    "print(pigplan.head())\n",
    "\n"
   ]
  },
  {
   "cell_type": "code",
   "execution_count": 8,
   "metadata": {},
   "outputs": [
    {
     "name": "stdout",
     "output_type": "stream",
     "text": [
      "<class 'pandas.core.frame.DataFrame'>\n",
      "RangeIndex: 2464 entries, 0 to 2463\n",
      "Data columns (total 21 columns):\n",
      " #   Column         Non-Null Count  Dtype  \n",
      "---  ------         --------------  -----  \n",
      " 0   FARM_NO        2464 non-null   int64  \n",
      " 1   Unnamed: 1     0 non-null      float64\n",
      " 2   FARM_PIG_NO    2464 non-null   object \n",
      " 3   Unnamed: 3     0 non-null      float64\n",
      " 4   BUNMAN_SANCHA  2464 non-null   int64  \n",
      " 5   Unnamed: 5     0 non-null      float64\n",
      " 6   GYOBAE_DT      2464 non-null   int64  \n",
      " 7   Unnamed: 7     0 non-null      float64\n",
      " 8   BUNMAN_DT      2464 non-null   int64  \n",
      " 9   Unnamed: 9     0 non-null      float64\n",
      " 10  CHONGSAN       2464 non-null   int64  \n",
      " 11  Unnamed: 11    0 non-null      float64\n",
      " 12  SILSAN         2464 non-null   int64  \n",
      " 13  Unnamed: 13    0 non-null      float64\n",
      " 14  EUDUSU         2464 non-null   int64  \n",
      " 15  Unnamed: 15    0 non-null      float64\n",
      " 16  EUKG           2464 non-null   float64\n",
      " 17  Unnamed: 17    0 non-null      float64\n",
      " 18  CHOGYOBAE      305 non-null    float64\n",
      " 19  Unnamed: 19    0 non-null      float64\n",
      " 20  JAE            1780 non-null   float64\n",
      "dtypes: float64(13), int64(7), object(1)\n",
      "memory usage: 404.4+ KB\n",
      "None\n"
     ]
    }
   ],
   "source": [
    "print(pigplan.info())\n"
   ]
  },
  {
   "cell_type": "code",
   "execution_count": 10,
   "metadata": {},
   "outputs": [
    {
     "name": "stdout",
     "output_type": "stream",
     "text": [
      "(2464, 21)\n"
     ]
    }
   ],
   "source": [
    "print(pigplan.shape)"
   ]
  },
  {
   "cell_type": "code",
   "execution_count": 11,
   "metadata": {},
   "outputs": [
    {
     "name": "stdout",
     "output_type": "stream",
     "text": [
      "Index(['FARM_NO', 'Unnamed: 1', 'FARM_PIG_NO', 'Unnamed: 3', 'BUNMAN_SANCHA',\n",
      "       'Unnamed: 5', 'GYOBAE_DT', 'Unnamed: 7', 'BUNMAN_DT', 'Unnamed: 9',\n",
      "       'CHONGSAN', 'Unnamed: 11', 'SILSAN', 'Unnamed: 13', 'EUDUSU',\n",
      "       'Unnamed: 15', 'EUKG', 'Unnamed: 17', 'CHOGYOBAE', 'Unnamed: 19',\n",
      "       'JAE'],\n",
      "      dtype='object')\n"
     ]
    }
   ],
   "source": [
    "print(pigplan.columns)"
   ]
  },
  {
   "cell_type": "code",
   "execution_count": 13,
   "metadata": {},
   "outputs": [
    {
     "name": "stdout",
     "output_type": "stream",
     "text": [
      "<class 'pandas.core.frame.DataFrame'>\n",
      "      FARM_NO  Unnamed: 1 FARM_PIG_NO  Unnamed: 3  BUNMAN_SANCHA  Unnamed: 5  \\\n",
      "0         624         NaN       36-86         NaN              2         NaN   \n",
      "1         624         NaN       36-86         NaN              3         NaN   \n",
      "2         624         NaN       36-86         NaN              4         NaN   \n",
      "3         624         NaN       36-86         NaN              5         NaN   \n",
      "4         624         NaN       36-86         NaN              6         NaN   \n",
      "...       ...         ...         ...         ...            ...         ...   \n",
      "2459      624         NaN     041-025         NaN              1         NaN   \n",
      "2460      624         NaN     041-031         NaN              1         NaN   \n",
      "2461      624         NaN     034-087         NaN              1         NaN   \n",
      "2462      624         NaN     035-006         NaN              1         NaN   \n",
      "2463      624         NaN     036-020         NaN              1         NaN   \n",
      "\n",
      "      GYOBAE_DT  Unnamed: 7  BUNMAN_DT  Unnamed: 9  ...  Unnamed: 11  SILSAN  \\\n",
      "0      20100521         NaN   20100913         NaN  ...          NaN      13   \n",
      "1      20101009         NaN   20110202         NaN  ...          NaN      18   \n",
      "2      20110309         NaN   20110703         NaN  ...          NaN      13   \n",
      "3      20110801         NaN   20111125         NaN  ...          NaN      10   \n",
      "4      20111227         NaN   20120421         NaN  ...          NaN      16   \n",
      "...         ...         ...        ...         ...  ...          ...     ...   \n",
      "2459   20220119         NaN   20220514         NaN  ...          NaN      11   \n",
      "2460   20211228         NaN   20220418         NaN  ...          NaN      10   \n",
      "2461   20211203         NaN   20220328         NaN  ...          NaN      12   \n",
      "2462   20211218         NaN   20220412         NaN  ...          NaN       9   \n",
      "2463   20211225         NaN   20220421         NaN  ...          NaN      16   \n",
      "\n",
      "      Unnamed: 13  EUDUSU  Unnamed: 15  EUKG  Unnamed: 17  CHOGYOBAE  \\\n",
      "0             NaN      11          NaN   0.0          NaN        NaN   \n",
      "1             NaN      10          NaN  80.0          NaN        NaN   \n",
      "2             NaN      11          NaN  88.0          NaN        NaN   \n",
      "3             NaN      10          NaN  70.0          NaN        NaN   \n",
      "4             NaN      11          NaN  88.0          NaN        NaN   \n",
      "...           ...     ...          ...   ...          ...        ...   \n",
      "2459          NaN      12          NaN   0.0          NaN      242.0   \n",
      "2460          NaN      10          NaN   0.0          NaN      220.0   \n",
      "2461          NaN      12          NaN   0.0          NaN      212.0   \n",
      "2462          NaN       9          NaN   0.0          NaN      227.0   \n",
      "2463          NaN      12          NaN   0.0          NaN      233.0   \n",
      "\n",
      "      Unnamed: 19  JAE  \n",
      "0             NaN  NaN  \n",
      "1             NaN  5.0  \n",
      "2             NaN  9.0  \n",
      "3             NaN  4.0  \n",
      "4             NaN  5.0  \n",
      "...           ...  ...  \n",
      "2459          NaN  NaN  \n",
      "2460          NaN  NaN  \n",
      "2461          NaN  NaN  \n",
      "2462          NaN  NaN  \n",
      "2463          NaN  NaN  \n",
      "\n",
      "[2464 rows x 21 columns]\n"
     ]
    }
   ],
   "source": [
    "pigplan_data = pd.DataFrame(pigplan)\n",
    "print(type(pigplan_data))\n",
    "print(pigplan_data)"
   ]
  },
  {
   "cell_type": "code",
   "execution_count": 31,
   "metadata": {},
   "outputs": [
    {
     "name": "stdout",
     "output_type": "stream",
     "text": [
      "0       2\n",
      "1       3\n",
      "2       4\n",
      "3       5\n",
      "4       6\n",
      "       ..\n",
      "2459    1\n",
      "2460    1\n",
      "2461    1\n",
      "2462    1\n",
      "2463    1\n",
      "Name: BUNMAN_SANCHA, Length: 2464, dtype: int64\n",
      "Index(['FARM_NO', 'Unnamed: 1', 'FARM_PIG_NO', 'Unnamed: 3', 'BUNMAN_SANCHA',\n",
      "       'Unnamed: 5', 'GYOBAE_DT', 'Unnamed: 7', 'BUNMAN_DT', 'Unnamed: 9',\n",
      "       'CHONGSAN', 'Unnamed: 11', 'SILSAN', 'Unnamed: 13', 'EUDUSU',\n",
      "       'Unnamed: 15', 'EUKG', 'Unnamed: 17', 'CHOGYOBAE', 'Unnamed: 19',\n",
      "       'JAE'],\n",
      "      dtype='object')\n"
     ]
    }
   ],
   "source": [
    "print(pigplan.BUNMAN_SANCHA)\n",
    "print(pigplan.columns)\n",
    "\n",
    "\n"
   ]
  },
  {
   "cell_type": "code",
   "execution_count": 35,
   "metadata": {},
   "outputs": [
    {
     "name": "stdout",
     "output_type": "stream",
     "text": [
      "    FARM_NO FARM_PIG_NO  BUNMAN_SANCHA  GYOBAE_DT  BUNMAN_DT  CHONGSAN  \\\n",
      "0       624       36-86              2   20100521   20100913        13   \n",
      "1       624       36-86              3   20101009   20110202        18   \n",
      "2       624       36-86              4   20110309   20110703        13   \n",
      "3       624       36-86              5   20110801   20111125        13   \n",
      "4       624       36-86              6   20111227   20120421        17   \n",
      "5       624       36-86              7   20120522   20120914        18   \n",
      "6       624       36-86              8   20121016   20130207        13   \n",
      "7       624       36-86              9   20130312   20130707        12   \n",
      "8       624       36-86             10   20130806   20131201        10   \n",
      "9       624       36-86             11   20140507   20140829         5   \n",
      "10      624       37-58              2   20100521   20100912        14   \n",
      "11      624       37-58              3   20101009   20110131        15   \n",
      "12      624       37-58              4   20110321   20110712        15   \n",
      "13      624       37-58              5   20110915   20120108         8   \n",
      "14      624       37-58              6   20120208   20120531        17   \n",
      "15      624       37-58              7   20120704   20121027        12   \n",
      "16      624       37-58              8   20121127   20130321        12   \n",
      "17      624       37-58              9   20130423   20130815        16   \n",
      "18      624       37-58             10   20130917   20140110        12   \n",
      "19      624       37-58             11   20140211   20140606        13   \n",
      "20      624       37-58             12   20140708   20141031        12   \n",
      "21      624       37-58             13   20141201   20150327         5   \n",
      "22      624       37-58             14   20150427   20150821         7   \n",
      "23      624       36-96              3   20100521   20100912        13   \n",
      "24      624       36-96              4   20101123   20110317        19   \n",
      "25      624       36-96              5   20110425   20110818        15   \n",
      "26      624       36-96              6   20111004   20120127         7   \n",
      "27      624       36-96              7   20120228   20120621        14   \n",
      "28      624       36-96              8   20120922   20130114        10   \n",
      "29      624       36-96              9   20130220   20130615        11   \n",
      "\n",
      "    SILSAN  EUDUSU  EUKG  CHOGYOBAE   JAE  \n",
      "0       13      11   0.0        NaN   NaN  \n",
      "1       18      10  80.0        NaN   5.0  \n",
      "2       13      11  88.0        NaN   9.0  \n",
      "3       10      10  70.0        NaN   4.0  \n",
      "4       16      11  88.0        NaN   5.0  \n",
      "5       17      11  77.0        NaN   5.0  \n",
      "6       11      10  70.0        NaN   5.0  \n",
      "7       10       9  72.0        NaN   5.0  \n",
      "8        7       9  81.0        NaN   5.0  \n",
      "9        3       3  24.0        NaN   NaN  \n",
      "10      14       9   0.0        NaN   NaN  \n",
      "11      14       9  54.0        NaN   5.0  \n",
      "12      14      10  70.0        NaN  26.0  \n",
      "13       8       8  56.0        NaN  38.0  \n",
      "14      13       9  67.5        NaN   6.0  \n",
      "15      12      10  70.0        NaN   6.0  \n",
      "16       8       9  67.5        NaN   5.0  \n",
      "17      13       6  42.0        NaN   5.0  \n",
      "18      11       7  52.5        NaN   5.0  \n",
      "19       9       9  63.0        NaN   5.0  \n",
      "20       6       5  37.5        NaN   5.0  \n",
      "21       5       5  37.5        NaN   4.0  \n",
      "22       5       7  45.5        NaN   4.0  \n",
      "23      13      12   0.0        NaN   NaN  \n",
      "24      19      12  84.0        NaN   NaN  \n",
      "25      14       9  63.0        NaN  11.0  \n",
      "26       6      10  70.0        NaN  16.0  \n",
      "27      14       9  72.0        NaN   5.0  \n",
      "28      10      10  80.0        NaN   NaN  \n",
      "29       9       9  67.5        NaN   6.0  \n"
     ]
    }
   ],
   "source": [
    "pigplan_two = pigplan[['FARM_NO', 'FARM_PIG_NO', 'BUNMAN_SANCHA', 'GYOBAE_DT', 'BUNMAN_DT',\n",
    "       'CHONGSAN', 'SILSAN', 'EUDUSU', 'EUKG', 'CHOGYOBAE',\n",
    "       'JAE']]\n",
    "print(pigplan_two.head(30))"
   ]
  },
  {
   "cell_type": "code",
   "execution_count": 48,
   "metadata": {},
   "outputs": [
    {
     "name": "stdout",
     "output_type": "stream",
     "text": [
      "      Unnamed: 1  Unnamed: 3  Unnamed: 5  Unnamed: 7  Unnamed: 9  Unnamed: 11  \\\n",
      "0            NaN         NaN         NaN         NaN         NaN          NaN   \n",
      "1            NaN         NaN         NaN         NaN         NaN          NaN   \n",
      "2            NaN         NaN         NaN         NaN         NaN          NaN   \n",
      "3            NaN         NaN         NaN         NaN         NaN          NaN   \n",
      "4            NaN         NaN         NaN         NaN         NaN          NaN   \n",
      "...          ...         ...         ...         ...         ...          ...   \n",
      "2459         NaN         NaN         NaN         NaN         NaN          NaN   \n",
      "2460         NaN         NaN         NaN         NaN         NaN          NaN   \n",
      "2461         NaN         NaN         NaN         NaN         NaN          NaN   \n",
      "2462         NaN         NaN         NaN         NaN         NaN          NaN   \n",
      "2463         NaN         NaN         NaN         NaN         NaN          NaN   \n",
      "\n",
      "      Unnamed: 13  Unnamed: 15  Unnamed: 17  Unnamed: 19  \n",
      "0             NaN          NaN          NaN          NaN  \n",
      "1             NaN          NaN          NaN          NaN  \n",
      "2             NaN          NaN          NaN          NaN  \n",
      "3             NaN          NaN          NaN          NaN  \n",
      "4             NaN          NaN          NaN          NaN  \n",
      "...           ...          ...          ...          ...  \n",
      "2459          NaN          NaN          NaN          NaN  \n",
      "2460          NaN          NaN          NaN          NaN  \n",
      "2461          NaN          NaN          NaN          NaN  \n",
      "2462          NaN          NaN          NaN          NaN  \n",
      "2463          NaN          NaN          NaN          NaN  \n",
      "\n",
      "[2464 rows x 10 columns]\n"
     ]
    }
   ],
   "source": [
    "pigplan_three = pigplan.iloc[:,list(range(1,21,2))]  ##의미없는 값 삭제\n",
    "print(pigplan_three)\n",
    "\n",
    "### 왜"
   ]
  },
  {
   "cell_type": "code",
   "execution_count": 41,
   "metadata": {},
   "outputs": [
    {
     "data": {
      "text/plain": [
       "(2464, 21)"
      ]
     },
     "execution_count": 41,
     "metadata": {},
     "output_type": "execute_result"
    }
   ],
   "source": [
    "pigplan.shape"
   ]
  },
  {
   "cell_type": "code",
   "execution_count": null,
   "metadata": {},
   "outputs": [],
   "source": [
    "pigplan_four =  pigplan.iloc[:,[]]"
   ]
  },
  {
   "cell_type": "code",
   "execution_count": 47,
   "metadata": {},
   "outputs": [
    {
     "name": "stdout",
     "output_type": "stream",
     "text": [
      "[0, 1, 2, 3, 4, 5, 6, 7, 8, 9]\n",
      "[0, 2, 4, 6, 8, 10, 12, 14, 16, 18, 20]\n"
     ]
    }
   ],
   "source": [
    "##range () 함수 활용\n",
    "a=list(range(0,10))\n",
    "print(a)\n",
    "\n",
    "b= list(range(0,21,2))\n",
    "print(b)\n",
    "\n",
    "c = list(range(1,21,2))"
   ]
  },
  {
   "cell_type": "code",
   "execution_count": 53,
   "metadata": {},
   "outputs": [
    {
     "name": "stdout",
     "output_type": "stream",
     "text": [
      "      FARM_NO FARM_PIG_NO  BUNMAN_SANCHA  GYOBAE_DT  BUNMAN_DT  CHONGSAN  \\\n",
      "0        1387        9530              1   20100727   20101113         6   \n",
      "1        1387        9530              2   20110128   20110522        14   \n",
      "2        1387        9530              3   20110628   20111021        15   \n",
      "3        1387        9530              4   20120102   20120424        17   \n",
      "4        1387        9530              5   20120529   20120921        13   \n",
      "...       ...         ...            ...        ...        ...       ...   \n",
      "3074     1387      102-46              1   20211223   20220417         9   \n",
      "3075     1387      101-22              1   20211224   20220417        12   \n",
      "3076     1387      102-78              1   20211224   20220413        10   \n",
      "3077     1387      102-34              1   20211222   20220414         6   \n",
      "3078     1387      102-38              1   20211223   20220418        12   \n",
      "\n",
      "      SILSAN  EUDUSU  EUKG  CHOGYOBAE   JAE  \n",
      "0          3       7  33.6        NaN   NaN  \n",
      "1         14       9  88.2        NaN  43.0  \n",
      "2         15      10  55.0        NaN   5.0  \n",
      "3         15      10  75.0        NaN   NaN  \n",
      "4         13       9  63.0        NaN   5.0  \n",
      "...      ...     ...   ...        ...   ...  \n",
      "3074       9       9  50.4      368.0   NaN  \n",
      "3075      11       9  45.9      369.0   NaN  \n",
      "3076       4       0   0.0      369.0   NaN  \n",
      "3077       3      10  40.0      367.0   NaN  \n",
      "3078      10       9  43.2      368.0   NaN  \n",
      "\n",
      "[3079 rows x 11 columns]\n",
      "      FARM_NO FARM_PIG_NO  BUNMAN_SANCHA  GYOBAE_DT  BUNMAN_DT  CHONGSAN  \\\n",
      "0        1387        9530              1   20100727   20101113         6   \n",
      "1        1387        9530              2   20110128   20110522        14   \n",
      "2        1387        9530              3   20110628   20111021        15   \n",
      "3        1387        9530              4   20120102   20120424        17   \n",
      "4        1387        9530              5   20120529   20120921        13   \n",
      "...       ...         ...            ...        ...        ...       ...   \n",
      "3074     1387      102-46              1   20211223   20220417         9   \n",
      "3075     1387      101-22              1   20211224   20220417        12   \n",
      "3076     1387      102-78              1   20211224   20220413        10   \n",
      "3077     1387      102-34              1   20211222   20220414         6   \n",
      "3078     1387      102-38              1   20211223   20220418        12   \n",
      "\n",
      "      SILSAN  EUDUSU  EUKG  CHOGYOBAE   JAE  \n",
      "0          3       7  33.6        NaN   NaN  \n",
      "1         14       9  88.2        NaN  43.0  \n",
      "2         15      10  55.0        NaN   5.0  \n",
      "3         15      10  75.0        NaN   NaN  \n",
      "4         13       9  63.0        NaN   5.0  \n",
      "...      ...     ...   ...        ...   ...  \n",
      "3074       9       9  50.4      368.0   NaN  \n",
      "3075      11       9  45.9      369.0   NaN  \n",
      "3076       4       0   0.0      369.0   NaN  \n",
      "3077       3      10  40.0      367.0   NaN  \n",
      "3078      10       9  43.2      368.0   NaN  \n",
      "\n",
      "[3079 rows x 11 columns]\n"
     ]
    }
   ],
   "source": [
    "a = pd.read_csv('/mnt/d/project/comars/pigplan_1387.csv')\n",
    "\n",
    "A_data_frame = pd.DataFrame(a)\n",
    "\n",
    "print(A_data_frame)\n",
    "\n",
    "print(A_data_frame.iloc[:,:])"
   ]
  },
  {
   "cell_type": "code",
   "execution_count": null,
   "metadata": {},
   "outputs": [],
   "source": []
  }
 ],
 "metadata": {
  "kernelspec": {
   "display_name": "Python 3.8.8 ('base')",
   "language": "python",
   "name": "python3"
  },
  "language_info": {
   "codemirror_mode": {
    "name": "ipython",
    "version": 3
   },
   "file_extension": ".py",
   "mimetype": "text/x-python",
   "name": "python",
   "nbconvert_exporter": "python",
   "pygments_lexer": "ipython3",
   "version": "3.8.8"
  },
  "orig_nbformat": 4,
  "vscode": {
   "interpreter": {
    "hash": "62f97a5b255369c5de4e98a9c801e78bacd2c6c868fb175ae0941a56137b4770"
   }
  }
 },
 "nbformat": 4,
 "nbformat_minor": 2
}
